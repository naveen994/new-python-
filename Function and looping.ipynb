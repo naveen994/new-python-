{
 "cells": [
  {
   "cell_type": "code",
   "execution_count": 6,
   "metadata": {},
   "outputs": [],
   "source": [
    "def fact(a):\n",
    "    a_fact=1\n",
    "    for i in range (1,a+1):\n",
    "        a_fact=a_fact*i\n",
    "    return a_fact"
   ]
  },
  {
   "cell_type": "code",
   "execution_count": 7,
   "metadata": {},
   "outputs": [
    {
     "data": {
      "text/plain": [
       "24"
      ]
     },
     "execution_count": 7,
     "metadata": {},
     "output_type": "execute_result"
    }
   ],
   "source": [
    "a=fact(4)\n",
    "a"
   ]
  },
  {
   "cell_type": "code",
   "execution_count": 8,
   "metadata": {},
   "outputs": [
    {
     "name": "stdout",
     "output_type": "stream",
     "text": [
      "4\n",
      "2\n",
      "6\n"
     ]
    }
   ],
   "source": [
    "n=int(input())\n",
    "r=int(input())\n",
    "n_fact=fact(n)\n",
    "r_fact=fact(r)\n",
    "n_r_fact=fact(n-r)\n",
    "ans=n_fact//(r_fact*n_r_fact)\n",
    "print(ans)\n"
   ]
  },
  {
   "cell_type": "code",
   "execution_count": 5,
   "metadata": {},
   "outputs": [
    {
     "name": "stdout",
     "output_type": "stream",
     "text": [
      "4\n",
      "2\n",
      "6\n"
     ]
    }
   ],
   "source": [
    "n=int(input())\n",
    "r=int(input())\n",
    "n_fact=1\n",
    "for i in range (1,n+1):\n",
    "    n_fact=n_fact*i\n",
    "r_fact=1\n",
    "for i in range (1,r+1):\n",
    "    r_fact=r_fact*i\n",
    "n_r_fact=1\n",
    "for i in range (1,n-r+1):\n",
    "    n_r_fact=n_r_fact*i\n",
    "ans=n_fact//(r_fact*n_r_fact)\n",
    "print(ans)\n",
    "    "
   ]
  },
  {
   "cell_type": "code",
   "execution_count": 16,
   "metadata": {},
   "outputs": [],
   "source": [
    "def square(a):\n",
    "    ans  = a*a\n",
    "    return  ans\n",
    "\n"
   ]
  },
  {
   "cell_type": "code",
   "execution_count": 17,
   "metadata": {},
   "outputs": [
    {
     "name": "stdout",
     "output_type": "stream",
     "text": [
      "16\n"
     ]
    }
   ],
   "source": [
    "\n",
    "a = square(4)\n",
    "print(a)\n"
   ]
  },
  {
   "cell_type": "code",
   "execution_count": 20,
   "metadata": {},
   "outputs": [
    {
     "name": "stdout",
     "output_type": "stream",
     "text": [
      "10\n",
      "12\n"
     ]
    }
   ],
   "source": [
    "a1=10 # global variable\n",
    "def f1():\n",
    "    b1=12 # local variable\n",
    "    print(b1)\n",
    "print(a1)\n",
    "f1()\n",
    "#print(b1)#can't print the local variable out side the function print(b1)"
   ]
  },
  {
   "cell_type": "code",
   "execution_count": 26,
   "metadata": {},
   "outputs": [
    {
     "name": "stdout",
     "output_type": "stream",
     "text": [
      "10\n",
      "12\n",
      "10\n"
     ]
    }
   ],
   "source": [
    "a3=10 # global variable\n",
    "def f3():\n",
    "    b3=12 # local variable\n",
    "    print(b3)\n",
    "print(a3)\n",
    "f3()\n",
    "print(a3)"
   ]
  },
  {
   "cell_type": "code",
   "execution_count": 29,
   "metadata": {},
   "outputs": [
    {
     "name": "stdout",
     "output_type": "stream",
     "text": [
      "13\n",
      "12\n",
      "4552168944\n",
      "12\n",
      "4552168944\n"
     ]
    }
   ],
   "source": [
    "a4=13\n",
    "def f4():\n",
    "    global a4\n",
    "    a4=12\n",
    "    print(a4)\n",
    "    print(id(a4))\n",
    "print(a4)\n",
    "f4()\n",
    "print(a4)\n",
    "print(id(a4))\n"
   ]
  },
  {
   "cell_type": "code",
   "execution_count": 30,
   "metadata": {},
   "outputs": [
    {
     "name": "stdout",
     "output_type": "stream",
     "text": [
      "12\n"
     ]
    }
   ],
   "source": [
    "a = 14\n",
    "def f():\n",
    "    a = 12\n",
    "    return a\n",
    "a = f()\n",
    "print(a)"
   ]
  },
  {
   "cell_type": "code",
   "execution_count": 6,
   "metadata": {},
   "outputs": [
    {
     "name": "stdout",
     "output_type": "stream",
     "text": [
      "5\n",
      "false\n"
     ]
    }
   ],
   "source": [
    "n=int(input())\n",
    "loop=2\n",
    "a=0\n",
    "b=1\n",
    "next=0\n",
    "\n",
    "if(n==0):\n",
    "    print(\"true\")\n",
    "elif n==1 or n==2:\n",
    "    print(\"false\")\n",
    "else:\n",
    "    while(loop<=n):\n",
    "        next=b+a\n",
    "        a=b\n",
    "        b=next\n",
    "        loop=loop+1\n",
    "    print(\"false\")"
   ]
  },
  {
   "cell_type": "code",
   "execution_count": null,
   "metadata": {},
   "outputs": [],
   "source": [
    "n=int(input())\n",
    "r=int(input())\n",
    "n_fact=1\n",
    "for i in range (1,n+1):\n",
    "    n_fact=n_fact*i\n",
    "r_fact=1\n",
    "for i in range (1,r+1):\n",
    "    r_fact=r_fact*i\n",
    "n_r_fact=1\n",
    "for i in range (1,n-r+1):\n",
    "    n_r_fact=n_r_fact*i\n",
    "ans=n_fact//(r_fact*n_r_fact)\n",
    "print(ans)"
   ]
  },
  {
   "cell_type": "code",
   "execution_count": 19,
   "metadata": {},
   "outputs": [
    {
     "name": "stdout",
     "output_type": "stream",
     "text": [
      "121\n",
      "false\n"
     ]
    }
   ],
   "source": [
    "def checkPalindrome(num):\n",
    "    n=num\n",
    "    rev=0\n",
    "    while num>0:\n",
    "        rev=num%10\n",
    "        rev=rev*10+rev\n",
    "        num=num//10\n",
    "    if rev==num:\n",
    "        return True\n",
    "    else:\n",
    "        return False\n",
    "\n",
    "num=int(input())\n",
    "isPalindrome = checkPalindrome(num)\n",
    "if(isPalindrome):\n",
    "    print('ture')\n",
    "else:\n",
    "    print('false')\n",
    "\n"
   ]
  },
  {
   "cell_type": "code",
   "execution_count": 20,
   "metadata": {},
   "outputs": [
    {
     "name": "stdout",
     "output_type": "stream",
     "text": [
      "6\n",
      "9 3 6 12 4 32\n",
      "3 9 12 6 32 4 "
     ]
    }
   ],
   "source": [
    "n=int(input())\n",
    "s=input()\n",
    "li=[]\n",
    "li=[int(x)for x in s.split()]\n",
    "for j in range(0,n-1,2):\n",
    "    li[j],li[j+1]=li[j+1],li[j]\n",
    "for ele in li:\n",
    "    print(ele,end=' ')"
   ]
  },
  {
   "cell_type": "code",
   "execution_count": 22,
   "metadata": {},
   "outputs": [
    {
     "name": "stdout",
     "output_type": "stream",
     "text": [
      "6\n",
      "2 6 8 5 4 3\n",
      "4 \n",
      "2 3 4 7\n",
      "2\n",
      "4\n",
      "3\n"
     ]
    }
   ],
   "source": [
    "n=int(input())\n",
    "s1=input()\n",
    "m=int(input())\n",
    "s2=input()\n",
    "li1=[int(x) for x in s1.split()]\n",
    "li2=[int(x) for x in s2.split()]\n",
    "for ele1 in li1:\n",
    "    for ele2 in li2:\n",
    "        if ele1==ele2:\n",
    "            print(ele1)\n",
    "            li2.remove(ele2)\n",
    "            break"
   ]
  },
  {
   "cell_type": "code",
   "execution_count": 51,
   "metadata": {},
   "outputs": [
    {
     "name": "stdout",
     "output_type": "stream",
     "text": [
      "5 \n",
      "1 2 4 3 2\n",
      "1\n"
     ]
    }
   ],
   "source": [
    "## Read input as specified in the question.\n",
    "n=int(input())\n",
    "lst=[int(x) for x in input().split()]\n",
    "d={}\n",
    "for ele in lst:\n",
    "    d[ele]=d.get(ele,0)+1\n",
    "    print(ele)\n",
    "    break\n",
    "## Print output as specified in the question.\n"
   ]
  },
  {
   "cell_type": "code",
   "execution_count": 41,
   "metadata": {},
   "outputs": [
    {
     "name": "stdout",
     "output_type": "stream",
     "text": [
      "103\n",
      "false\n"
     ]
    }
   ],
   "source": [
    "def palin(n):\n",
    "    sum=0\n",
    "    num=n\n",
    "    c=0\n",
    "    while num:\n",
    "        c=c+1\n",
    "        num=num//10\n",
    "    num=n\n",
    "    while num:\n",
    "        r=num%10\n",
    "        sum+=r**c\n",
    "        num=num//10\n",
    "    if sum==n:\n",
    "        return True\n",
    "    return False\n",
    "\n",
    "n=int(input())\n",
    "if palin(n):\n",
    "    print('true')\n",
    "else:\n",
    "    print('false')"
   ]
  },
  {
   "cell_type": "code",
   "execution_count": 43,
   "metadata": {},
   "outputs": [
    {
     "name": "stdout",
     "output_type": "stream",
     "text": [
      "5\n",
      "1\n",
      "2\n",
      "3\n",
      "4\n",
      "5\n",
      "['1', '2', '3', '4', '5']\n"
     ]
    }
   ],
   "source": [
    "n = int(input())\n",
    "li = []\n",
    "for i in range(n):\n",
    "    li.append(input())\n",
    "print(li)"
   ]
  },
  {
   "cell_type": "code",
   "execution_count": 44,
   "metadata": {},
   "outputs": [
    {
     "name": "stdout",
     "output_type": "stream",
     "text": [
      "1 2 3 4 5 \n",
      "['1', '2', '3', '4', '5']\n"
     ]
    }
   ],
   "source": [
    "li = [x for x in input().split()]\n",
    "print(li)\n"
   ]
  },
  {
   "cell_type": "code",
   "execution_count": 45,
   "metadata": {},
   "outputs": [
    {
     "name": "stdout",
     "output_type": "stream",
     "text": [
      "[1, 4, 3, 4, 5]\n"
     ]
    }
   ],
   "source": [
    "def change(li):\n",
    "    li[1] = li[1] + 2\n",
    "li = [1,2,3,4,5]\n",
    "change(li)\n",
    "print(li)"
   ]
  },
  {
   "cell_type": "code",
   "execution_count": 46,
   "metadata": {},
   "outputs": [
    {
     "name": "stdout",
     "output_type": "stream",
     "text": [
      "[1, 4, 3, 4, 5]\n"
     ]
    }
   ],
   "source": [
    "def change(li):\n",
    "    li[1] = li[1] + 2\n",
    "    li = [3,3,3,4,5]\n",
    "li = [1,2,3,4,5]\n",
    "change(li)\n",
    "print(li)"
   ]
  },
  {
   "cell_type": "code",
   "execution_count": null,
   "metadata": {},
   "outputs": [],
   "source": []
  }
 ],
 "metadata": {
  "kernelspec": {
   "display_name": "Python 3",
   "language": "python",
   "name": "python3"
  },
  "language_info": {
   "codemirror_mode": {
    "name": "ipython",
    "version": 3
   },
   "file_extension": ".py",
   "mimetype": "text/x-python",
   "name": "python",
   "nbconvert_exporter": "python",
   "pygments_lexer": "ipython3",
   "version": "3.7.4"
  }
 },
 "nbformat": 4,
 "nbformat_minor": 2
}
